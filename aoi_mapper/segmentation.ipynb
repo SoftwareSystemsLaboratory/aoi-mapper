{
  "cells": [
    {
      "cell_type": "markdown",
      "metadata": {},
      "source": [
        "# Image Segmentation\n",
        "\n",
        "> A tool to generate the area of interest maps of images using a variety of image segmentation techniques.\n",
        "\n",
        "Code was written by Nicholas M. Synovic, Oscar Yanek, and Rohan Sethi"
      ]
    },
    {
      "cell_type": "markdown",
      "metadata": {},
      "source": [
        "## Setup"
      ]
    },
    {
      "cell_type": "markdown",
      "metadata": {
        "id": "eUPl1Y3afhjX"
      },
      "source": [
        "### Upgrade Python `pip` Tool\n",
        "\n",
        "Upgrade the Python `pip` tool to the latest version"
      ]
    },
    {
      "cell_type": "code",
      "execution_count": null,
      "metadata": {
        "colab": {
          "base_uri": "https://localhost:8080/"
        },
        "id": "TTjj0EYGfmxm",
        "outputId": "dfeada01-f30e-4604-970a-b3a9d7576a77"
      },
      "outputs": [],
      "source": [
        "%pip install --upgrade pip"
      ]
    },
    {
      "cell_type": "markdown",
      "metadata": {
        "id": "mbqWSZMQe_B_"
      },
      "source": [
        "### Install Python libaries via `pip`\n",
        "\n",
        "Installed libraries are:\n",
        "\n",
        "- opencv-contrib-python\n",
        "- progress"
      ]
    },
    {
      "cell_type": "code",
      "execution_count": null,
      "metadata": {
        "colab": {
          "base_uri": "https://localhost:8080/"
        },
        "id": "sXq-rWDCJd4w",
        "outputId": "78cea49b-95c8-4ca9-a64f-bbd29844412a"
      },
      "outputs": [],
      "source": [
        "%pip install opencv-contrib-python progress"
      ]
    },
    {
      "cell_type": "markdown",
      "metadata": {
        "id": "kCEpl7l6hKPX"
      },
      "source": [
        "### Import Dependencies "
      ]
    },
    {
      "cell_type": "code",
      "execution_count": null,
      "metadata": {
        "id": "E4vBBhvvfD_u"
      },
      "outputs": [],
      "source": [
        "from os import listdir\n",
        "from os.path import join\n",
        "from pathlib import PurePath\n",
        "\n",
        "import cv2\n",
        "import numpy\n",
        "from numpy import ndarray\n",
        "from progress.bar import Bar"
      ]
    },
    {
      "cell_type": "markdown",
      "metadata": {
        "id": "BUjbgiZ9hVCQ"
      },
      "source": [
        "### Allow Data to be Loaded From Google Drive\n",
        "\n",
        "If you wish to load data from Google Drive, uncomment the following lines."
      ]
    },
    {
      "cell_type": "code",
      "execution_count": null,
      "metadata": {
        "colab": {
          "base_uri": "https://localhost:8080/"
        },
        "id": "GkdMd79XhalG",
        "outputId": "ad372c16-91c4-4c23-bbf0-53f786604870"
      },
      "outputs": [],
      "source": [
        "#from google.colab import drive\n",
        "#drive.mount('/content/gdrive')"
      ]
    },
    {
      "cell_type": "markdown",
      "metadata": {},
      "source": [
        "## Application"
      ]
    },
    {
      "cell_type": "markdown",
      "metadata": {},
      "source": [
        "### Read Directory\n",
        "\n",
        "Function to read a directory and return a list of filepaths from that directory."
      ]
    },
    {
      "cell_type": "code",
      "execution_count": null,
      "metadata": {},
      "outputs": [],
      "source": [
        "def readDirectory(dir: str) -> list:\n",
        "    files: list = listdir(dir)\n",
        "    filepaths: list = [join(dir, f) for f in files]\n",
        "    return filepaths"
      ]
    },
    {
      "cell_type": "markdown",
      "metadata": {},
      "source": [
        "### Canny Segmentation\n",
        "\n",
        "Takes a file path to an image (`imagePath`) and an output folder path (default is `./data`; `outputFolder`) as input.\n",
        "\n",
        "It then uses the approach outlined in [1](#citations) to estimate the background threshold of the image.\n",
        "\n",
        "Area of interest maps are saved in `.jpg` format in the `outputFolder` with the following scheme:\n",
        "\n",
        "- `outputFolder`/FILENAME_cannySegmentation`.jpg`\n",
        "\n",
        "Where FILENAME is the original name of the file without the extension."
      ]
    },
    {
      "cell_type": "code",
      "execution_count": null,
      "metadata": {
        "colab": {
          "base_uri": "https://localhost:8080/",
          "height": 266
        },
        "id": "V1KIiFABfmXq",
        "outputId": "baaa41c2-c639-4916-9b0f-f99cbbf6f6a7"
      },
      "outputs": [],
      "source": [
        "def cannySegmentation(imagePath: str, outputFolder: str = \"data\")   ->  None:\n",
        "    imageName: str = PurePath(imagePath).with_suffix(\"\").name + \"_cannySegmentation.jpg\"\n",
        "    outputPath: str = join(outputFolder, imageName)\n",
        "\n",
        "    image: ndarray = cv2.imread(imagePath)\n",
        "    imageShape: tuple = image.shape\n",
        "\n",
        "    grayImage: ndarray = cv2.cvtColor(image,cv2.COLOR_BGR2GRAY) \n",
        "    \n",
        "    _, threshold = cv2.threshold(grayImage, numpy.mean(grayImage), 255, cv2.THRESH_BINARY_INV)\n",
        "    edges: ndarray = cv2.dilate(cv2.Canny(threshold, 0, 255), None)\n",
        "\n",
        "    contours: ndarray = sorted(cv2.findContours(edges, cv2.RETR_LIST, cv2.CHAIN_APPROX_SIMPLE)[-2], key=cv2.contourArea)[-1]\n",
        "\n",
        "    mask: ndarray = numpy.zeros(imageShape, numpy.uint8)\n",
        "    \n",
        "    segmented: ndarray = cv2.drawContours(mask, [contours],-1, 255, -1)\n",
        "    segmented = cv2.cvtColor(segmented, cv2.COLOR_BGR2GRAY)\n",
        "    segmented[segmented > 0] = 255    # Convert from grayscale to black and white\n",
        "\n",
        "    cv2.imwrite(outputPath, segmented)"
      ]
    },
    {
      "cell_type": "markdown",
      "metadata": {},
      "source": [
        "### Main Method"
      ]
    },
    {
      "cell_type": "code",
      "execution_count": null,
      "metadata": {},
      "outputs": [],
      "source": [
        "def main() -> None:\n",
        "    dir: str = input(\"Image directory to analyze: \")\n",
        "    imagePaths: list = readDirectory(dir)\n",
        "    \n",
        "    with Bar(\n",
        "        \"Creating saliency maps of PascalVOC images...\", max=len(imagePaths)\n",
        "    ) as bar:\n",
        "        imagePath: str\n",
        "        for imagePath in imagePaths:\n",
        "            cannySegmentation(imagePath)\n",
        "            bar.next()\n",
        "\n",
        "\n",
        "if __name__ == \"__main__\":\n",
        "    main()\n"
      ]
    },
    {
      "cell_type": "markdown",
      "metadata": {},
      "source": [
        "## Citations\n",
        "\n",
        "1. John Canny. A computational approach to edge detection. Pattern Analysis and Machine Intelligence, IEEE Transactions on, (6):679–698, 1986."
      ]
    }
  ],
  "metadata": {
    "colab": {
      "provenance": []
    },
    "kernelspec": {
      "display_name": "Python 3.10.6 64-bit",
      "language": "python",
      "name": "python3"
    },
    "language_info": {
      "codemirror_mode": {
        "name": "ipython",
        "version": 3
      },
      "file_extension": ".py",
      "mimetype": "text/x-python",
      "name": "python",
      "nbconvert_exporter": "python",
      "pygments_lexer": "ipython3",
      "version": "3.10.6"
    },
    "vscode": {
      "interpreter": {
        "hash": "7d6993cb2f9ce9a59d5d7380609d9cb5192a9dedd2735a011418ad9e827eb538"
      }
    }
  },
  "nbformat": 4,
  "nbformat_minor": 0
}
