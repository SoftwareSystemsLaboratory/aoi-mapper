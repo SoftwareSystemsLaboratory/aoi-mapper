{
  "cells": [
    {
      "cell_type": "markdown",
      "metadata": {
        "id": "7bJD_FpLestp"
      },
      "source": [
        "# Background Removal\n",
        "\n",
        "> A tool to generate the area of interest maps of images using a variety of background removal techniques.\n",
        "\n",
        "Code was written by Nicholas M. Synovic, Oscar Yanek, and Rohan Sethi"
      ]
    },
    {
      "cell_type": "markdown",
      "metadata": {},
      "source": [
        "## Setup"
      ]
    },
    {
      "cell_type": "markdown",
      "metadata": {
        "id": "eUPl1Y3afhjX"
      },
      "source": [
        "### Upgrade Python `pip` Tool\n",
        "\n",
        "Upgrade the Python `pip` tool to the latest version"
      ]
    },
    {
      "cell_type": "code",
      "execution_count": null,
      "metadata": {
        "colab": {
          "base_uri": "https://localhost:8080/"
        },
        "id": "TTjj0EYGfmxm",
        "outputId": "dfeada01-f30e-4604-970a-b3a9d7576a77"
      },
      "outputs": [],
      "source": [
        "%pip install --upgrade pip"
      ]
    },
    {
      "cell_type": "markdown",
      "metadata": {
        "id": "mbqWSZMQe_B_"
      },
      "source": [
        "### Install Python libaries via `pip`\n",
        "\n",
        "Installed libraries are:\n",
        "\n",
        "- opencv-contrib-python\n",
        "- progress"
      ]
    },
    {
      "cell_type": "code",
      "execution_count": null,
      "metadata": {
        "colab": {
          "base_uri": "https://localhost:8080/"
        },
        "id": "sXq-rWDCJd4w",
        "outputId": "78cea49b-95c8-4ca9-a64f-bbd29844412a"
      },
      "outputs": [],
      "source": [
        "%pip install opencv-contrib-python progress"
      ]
    },
    {
      "cell_type": "markdown",
      "metadata": {
        "id": "kCEpl7l6hKPX"
      },
      "source": [
        "### Import Dependencies "
      ]
    },
    {
      "cell_type": "code",
      "execution_count": null,
      "metadata": {
        "id": "E4vBBhvvfD_u"
      },
      "outputs": [],
      "source": [
        "from os import listdir\n",
        "from os.path import join\n",
        "from pathlib import PurePath\n",
        "\n",
        "import cv2\n",
        "import numpy\n",
        "from numpy import ndarray\n",
        "from progress.bar import Bar"
      ]
    },
    {
      "cell_type": "markdown",
      "metadata": {
        "id": "BUjbgiZ9hVCQ"
      },
      "source": [
        "### Allow Data to be Loaded From Google Drive\n",
        "\n",
        "If you wish to load data from Google Drive, uncomment the following lines."
      ]
    },
    {
      "cell_type": "code",
      "execution_count": null,
      "metadata": {
        "colab": {
          "base_uri": "https://localhost:8080/"
        },
        "id": "GkdMd79XhalG",
        "outputId": "ad372c16-91c4-4c23-bbf0-53f786604870"
      },
      "outputs": [],
      "source": [
        "#from google.colab import drive\n",
        "#drive.mount('/content/gdrive')"
      ]
    },
    {
      "cell_type": "markdown",
      "metadata": {},
      "source": [
        "## Application"
      ]
    },
    {
      "cell_type": "markdown",
      "metadata": {},
      "source": [
        "### Read Directory\n",
        "\n",
        "Function to read a directory and return a list of filepaths from that directory."
      ]
    },
    {
      "cell_type": "code",
      "execution_count": null,
      "metadata": {},
      "outputs": [],
      "source": [
        "def readDirectory(dir: str) -> list:\n",
        "    files: list = listdir(dir)\n",
        "    filepaths: list = [join(dir, f) for f in files]\n",
        "    return filepaths"
      ]
    },
    {
      "cell_type": "markdown",
      "metadata": {},
      "source": [
        "### Triangle Threshold Background Removal\n",
        "\n",
        "Takes a file path to an image (`imagePath`) and an output folder path (default is `./data`; `outputFolder`) as input.\n",
        "\n",
        "<!-- It then uses the approach outlined in [1](#citations) to estimate the background threshold of the image. -->\n",
        "\n",
        "Area of interest maps are saved in `.jpg` format in the `outputFolder` with the following scheme:\n",
        "\n",
        "- `outputFolder`/FILENAME_triangleBackgroundRemoval`.jpg`\n",
        "\n",
        "Where FILENAME is the original name of the file without the extension."
      ]
    },
    {
      "cell_type": "code",
      "execution_count": null,
      "metadata": {},
      "outputs": [],
      "source": [
        "def triangleBackgroundRemoval(imagePath: str, outputFolder: str = \"data\") -> None:\n",
        "    imageName: str = PurePath(imagePath).with_suffix(\"\").name + \"_triangleBackgroundRemoval.jpg\"\n",
        "    outputPath: str = join(outputFolder, imageName)\n",
        "    bins: ndarray = numpy.array([0, 51, 102, 153, 204, 255])\n",
        "\n",
        "    image: ndarray = cv2.imread(imagePath)\n",
        "    blurredImage: ndarray = cv2.GaussianBlur(image, (5, 5), 0)\n",
        "\n",
        "    blurredImage[:, :, :] = numpy.digitize(blurredImage[:, :, :], bins, right=True) * 51\n",
        "    grayBlurredImage: ndarray = cv2.cvtColor(blurredImage, cv2.COLOR_BGR2GRAY)\n",
        "\n",
        "    ret, foreground = cv2.threshold(\n",
        "        grayBlurredImage, 0, 255, cv2.THRESH_TOZERO_INV + cv2.THRESH_TRIANGLE\n",
        "    )\n",
        "\n",
        "    foreground[foreground > 0] = 255    # Convert from grayscale to black and white\n",
        "\n",
        "    cv2.imwrite(outputPath, foreground)"
      ]
    },
    {
      "cell_type": "markdown",
      "metadata": {},
      "source": [
        "### Otsu Threshold Background Removal\n",
        "\n",
        "Takes a file path to an image (`imagePath`) and an output folder path (default is `./data`; `outputFolder`) as input.\n",
        "\n",
        "<!-- It then uses the approach outlined in [2](#citations) to estimate the background threshold of the image. -->\n",
        "\n",
        "Area of interest maps are saved in `.jpg` format in the `outputFolder` with the following scheme:\n",
        "\n",
        "- `outputFolder`/FILENAME_otsuBackgroundRemoval`.jpg`\n",
        "\n",
        "Where FILENAME is the original name of the file without the extension."
      ]
    },
    {
      "cell_type": "code",
      "execution_count": null,
      "metadata": {},
      "outputs": [],
      "source": [
        "def otsuBackgroundRemoval(imagePath: str, outputFolder: str = \"data\") -> None:\n",
        "    imageName: str = PurePath(imagePath).with_suffix(\"\").name + \"_otsuBackgroundRemoval.jpg\"\n",
        "    outputPath: str = join(outputFolder, imageName)\n",
        "    bins: ndarray = numpy.array([0, 51, 102, 153, 204, 255])\n",
        "\n",
        "    image: ndarray = cv2.imread(imagePath)\n",
        "    blurredImage: ndarray = cv2.GaussianBlur(image, (5, 5), 0)\n",
        "\n",
        "    blurredImage[:, :, :] = numpy.digitize(blurredImage[:, :, :], bins, right=True) * 51\n",
        "    grayBlurredImage: ndarray = cv2.cvtColor(blurredImage, cv2.COLOR_BGR2GRAY)\n",
        "\n",
        "    ret, foreground = cv2.threshold(\n",
        "        grayBlurredImage, 0, 255, cv2.THRESH_TOZERO_INV + cv2.THRESH_OTSU\n",
        "    )\n",
        "\n",
        "    foreground[foreground > 0] = 255    # Convert from grayscale to black and white\n",
        "\n",
        "    cv2.imwrite(outputPath, foreground)"
      ]
    },
    {
      "cell_type": "markdown",
      "metadata": {},
      "source": [
        "### Basic Background Removal\n",
        "\n",
        "Takes a file path to an image (`imagePath`) and an output folder path (default is `./data`; `outputFolder`) as input.\n",
        "\n",
        "<!-- It then uses the approach outlined in [3](#citations) to estimate the background threshold of the image. -->\n",
        "\n",
        "Area of interest maps are saved in `.jpg` format in the `outputFolder` with the following scheme:\n",
        "\n",
        "- `outputFolder`/FILENAME_basicBackgroundRemoval`.jpg`\n",
        "\n",
        "Where FILENAME is the original name of the file without the extension."
      ]
    },
    {
      "cell_type": "code",
      "execution_count": null,
      "metadata": {},
      "outputs": [],
      "source": [
        "def basicBackgroundRemoval(imagePath: str, outputFolder: str = \"data\") -> None:\n",
        "    imageName: str = PurePath(imagePath).with_suffix(\"\").name + \"_basicBackgroundRemoval.jpg\"\n",
        "    outputPath: str = join(outputFolder, imageName)\n",
        "\n",
        "    image: ndarray = cv2.imread(imagePath)\n",
        "\n",
        "    grayImage: ndarray = cv2.cvtColor(image, cv2.COLOR_BGR2GRAY)\n",
        "\n",
        "    baseline: ndarray = cv2.threshold(grayImage,127,255,cv2.THRESH_TRUNC)[1]\n",
        "    foreground: ndarray = cv2.threshold(baseline,126,255,cv2.THRESH_BINARY_INV)[1]\n",
        "\n",
        "    foreground[foreground > 0] = 255    # Convert from grayscale to black and white\n",
        "\n",
        "    cv2.imwrite(outputPath, foreground)"
      ]
    },
    {
      "cell_type": "markdown",
      "metadata": {},
      "source": [
        "### HSV Background Removal\n",
        "\n",
        "Takes a file path to an image (`imagePath`) and an output folder path (default is `./data`; `outputFolder`) as input.\n",
        "\n",
        "<!-- It then uses the approach outlined in [4](#citations) to estimate the background threshold of the image. -->\n",
        "\n",
        "Area of interest maps are saved in `.jpg` format in the `outputFolder` with the following scheme:\n",
        "\n",
        "- `outputFolder`/FILENAME_hsvBackgroundRemoval`.jpg`\n",
        "\n",
        "Where FILENAME is the original name of the file without the extension."
      ]
    },
    {
      "cell_type": "code",
      "execution_count": null,
      "metadata": {},
      "outputs": [],
      "source": [
        "def hsvBackgroundRemoval(imagePath: str, outputFolder: str = \"data\") -> None:\n",
        "    imageName: str = PurePath(imagePath).with_suffix(\"\").name + \"_hsvBackgroundRemoval.jpg\"\n",
        "    outputPath: str = join(outputFolder, imageName)\n",
        "\n",
        "    image: ndarray = cv2.imread(imagePath)\n",
        "\n",
        "    hsvImage = cv2.cvtColor(image, cv2.COLOR_BGR2HSV)\n",
        "\n",
        "    saturation: hsvImage = hsvImage[:,:,1]\n",
        "    saturation = numpy.where(saturation < 127, 0, 1)\n",
        "\n",
        "    colorValue: ndarray = (hsvImage[:,:,2] + 127) % 255\n",
        "    colorValue = numpy.where(colorValue > 127, 1, 0)\n",
        "\n",
        "    foreground = numpy.where(saturation + colorValue > 0, 1, 0).astype(numpy.uint8)\n",
        "\n",
        "    foreground[foreground > 0] = 255    # Convert from grayscale to black and white\n",
        "\n",
        "    cv2.imwrite(outputPath, foreground)"
      ]
    },
    {
      "cell_type": "markdown",
      "metadata": {},
      "source": [
        "### Main Method"
      ]
    },
    {
      "cell_type": "code",
      "execution_count": null,
      "metadata": {
        "colab": {
          "base_uri": "https://localhost:8080/"
        },
        "collapsed": true,
        "id": "oTH2X0mhhbz1",
        "outputId": "70cab19a-d784-4a94-d8c1-87dd16f1f0cc"
      },
      "outputs": [],
      "source": [
        "def main() -> None:\n",
        "    dir: str = input(\"Image directory to analyze: \")\n",
        "    imagePaths: list = readDirectory(dir)\n",
        "    \n",
        "    with Bar(\n",
        "        \"Creating saliency maps of PascalVOC images...\", max=len(imagePaths)\n",
        "    ) as bar:\n",
        "        imagePath: str\n",
        "        for imagePath in imagePaths:\n",
        "            triangleBackgroundRemoval(imagePath)\n",
        "            otsuBackgroundRemoval(imagePath)\n",
        "            basicBackgroundRemoval(imagePath)\n",
        "            hsvBackgroundRemoval(imagePath)\n",
        "            bar.next()\n",
        "\n",
        "\n",
        "if __name__ == \"__main__\":\n",
        "    main()"
      ]
    }
  ],
  "metadata": {
    "accelerator": "GPU",
    "colab": {
      "collapsed_sections": [],
      "provenance": []
    },
    "kernelspec": {
      "display_name": "Python 3.10.6 64-bit",
      "language": "python",
      "name": "python3"
    },
    "language_info": {
      "codemirror_mode": {
        "name": "ipython",
        "version": 3
      },
      "file_extension": ".py",
      "mimetype": "text/x-python",
      "name": "python",
      "nbconvert_exporter": "python",
      "pygments_lexer": "ipython3",
      "version": "3.10.6"
    },
    "vscode": {
      "interpreter": {
        "hash": "7d6993cb2f9ce9a59d5d7380609d9cb5192a9dedd2735a011418ad9e827eb538"
      }
    }
  },
  "nbformat": 4,
  "nbformat_minor": 0
}
