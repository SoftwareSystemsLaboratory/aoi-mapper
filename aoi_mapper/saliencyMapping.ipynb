{
  "cells": [
    {
      "cell_type": "markdown",
      "metadata": {
        "id": "7bJD_FpLestp"
      },
      "source": [
        "# Saliency Mapper\n",
        "\n",
        "> A tool to generate area of interests maps of images using image saliency techniques\n",
        "\n",
        "Code was written by Nicholas M. Synovic, Oscar Yanek, and Rohan Sethi"
      ]
    },
    {
      "cell_type": "markdown",
      "metadata": {},
      "source": [
        "## Setup"
      ]
    },
    {
      "cell_type": "markdown",
      "metadata": {
        "id": "eUPl1Y3afhjX"
      },
      "source": [
        "### Upgrade Python `pip` Tool\n",
        "\n",
        "Upgrade the Python `pip` tool to the latest version"
      ]
    },
    {
      "cell_type": "code",
      "execution_count": null,
      "metadata": {
        "colab": {
          "base_uri": "https://localhost:8080/"
        },
        "id": "TTjj0EYGfmxm",
        "outputId": "dfeada01-f30e-4604-970a-b3a9d7576a77"
      },
      "outputs": [],
      "source": [
        "%pip install --upgrade pip"
      ]
    },
    {
      "cell_type": "markdown",
      "metadata": {
        "id": "mbqWSZMQe_B_"
      },
      "source": [
        "### Install Python libaries via `pip`\n",
        "\n",
        "Installed libraries are:\n",
        "\n",
        "- opencv-contrib-python\n",
        "- progress"
      ]
    },
    {
      "cell_type": "code",
      "execution_count": null,
      "metadata": {
        "colab": {
          "base_uri": "https://localhost:8080/"
        },
        "id": "sXq-rWDCJd4w",
        "outputId": "78cea49b-95c8-4ca9-a64f-bbd29844412a"
      },
      "outputs": [],
      "source": [
        "%pip install opencv-contrib-python progress"
      ]
    },
    {
      "cell_type": "markdown",
      "metadata": {
        "id": "BUjbgiZ9hVCQ"
      },
      "source": [
        "### Allow Data to be Loaded From Google Drive\n",
        "\n",
        "If you wish to load data from Google Drive, uncomment the following lines."
      ]
    },
    {
      "cell_type": "code",
      "execution_count": null,
      "metadata": {
        "colab": {
          "base_uri": "https://localhost:8080/"
        },
        "id": "GkdMd79XhalG",
        "outputId": "ad372c16-91c4-4c23-bbf0-53f786604870"
      },
      "outputs": [],
      "source": [
        "# from google.colab import drive\n",
        "# drive.mount('/content/gdrive')"
      ]
    },
    {
      "cell_type": "markdown",
      "metadata": {},
      "source": [
        "## Application"
      ]
    },
    {
      "cell_type": "markdown",
      "metadata": {
        "id": "kCEpl7l6hKPX"
      },
      "source": [
        "### Import Dependencies "
      ]
    },
    {
      "cell_type": "code",
      "execution_count": null,
      "metadata": {
        "id": "E4vBBhvvfD_u"
      },
      "outputs": [],
      "source": [
        "from os import listdir\n",
        "from os.path import join\n",
        "from pathlib import PurePath\n",
        "\n",
        "import cv2\n",
        "from numpy import ndarray\n",
        "from progress.bar import Bar"
      ]
    },
    {
      "cell_type": "markdown",
      "metadata": {},
      "source": [
        "### Read Directory\n",
        "\n",
        "Function to read a directory and return a list of filepaths from that directory."
      ]
    },
    {
      "cell_type": "code",
      "execution_count": null,
      "metadata": {},
      "outputs": [],
      "source": [
        "def readDirectory(dir: str) -> list:\n",
        "    files: list = listdir(dir)\n",
        "    filepaths: list = [join(dir, f) for f in files]\n",
        "    return filepaths"
      ]
    },
    {
      "cell_type": "markdown",
      "metadata": {},
      "source": [
        "### Spectral Saliency\n",
        "\n",
        "Takes a file path to an image (`imagePath`) and an output folder path (default is `./data`; `outputFolder`) as input.\n",
        "\n",
        "It then uses the approach outlined in [1](#citations) to compute the saliency map of an image.\n",
        "\n",
        "Area of interest maps are saved in `.jpg` format in the `outputFolder` with the following scheme:\n",
        "\n",
        "- `outputFolder`/FILENAME_spectralResidual`.jpg`\n",
        "\n",
        "Where FILENAME is the original name of the file without the extension.\n"
      ]
    },
    {
      "cell_type": "code",
      "execution_count": null,
      "metadata": {},
      "outputs": [],
      "source": [
        "def computeSpectralSaliency(imagePath: str, outputFolder: str = \"data\") -> None:\n",
        "    imageName: str = PurePath(imagePath).with_suffix(\"\").name + \"_spectralResidual.jpg\"\n",
        "    outputPath: str = join(outputFolder, imageName)\n",
        "    \n",
        "    spectralSaliency = cv2.saliency.StaticSaliencySpectralResidual_create()\n",
        "\n",
        "    image: ndarray = cv2.imread(imagePath)\n",
        "    \n",
        "    (success, saliencyMap) = spectralSaliency.computeSaliency(image)\n",
        "    \n",
        "    saliencyMap: ndarray = (saliencyMap * 255).astype(\"uint8\")\n",
        "    \n",
        "    cv2.imwrite(outputPath, saliencyMap)"
      ]
    },
    {
      "cell_type": "markdown",
      "metadata": {},
      "source": [
        "### Fine Grain Saliency\n",
        "\n",
        "Takes a file path to an image (`imagePath`) and an output folder path (default is `./data`; `outputFolder`) as input.\n",
        "\n",
        "It then uses the approach outlined in [2](#citations) to compute the saliency map of an image.\n",
        "\n",
        "Area of interest maps are saved in `.jpg` format in the `outputFolder` with the following scheme:\n",
        "\n",
        "- `outputFolder`/FILENAME_fineGrain`.jpg`\n",
        "\n",
        "Where FILENAME is the original name of the file without the extension."
      ]
    },
    {
      "cell_type": "code",
      "execution_count": null,
      "metadata": {},
      "outputs": [],
      "source": [
        "def computeFineGrainSaliency(imagePath: str, outputFolder: str = \"data\") -> None:\n",
        "    imageName: str = PurePath(imagePath).with_suffix(\"\").name + \"_fineGrain.jpg\"\n",
        "    outputPath: str = join(outputFolder, imageName)\n",
        "    \n",
        "    image: ndarray = cv2.imread(imagePath)\n",
        "    \n",
        "    fineGrainSaliency = cv2.saliency.StaticSaliencyFineGrained_create()\n",
        "\n",
        "    (success, saliencyMap) = fineGrainSaliency.computeSaliency(image)\n",
        "    saliencyMap: ndarray = (saliencyMap * 255).astype(\"uint8\")\n",
        "    cv2.imwrite(outputPath, saliencyMap)"
      ]
    },
    {
      "cell_type": "markdown",
      "metadata": {},
      "source": [
        "### Main Method"
      ]
    },
    {
      "cell_type": "code",
      "execution_count": null,
      "metadata": {
        "colab": {
          "base_uri": "https://localhost:8080/"
        },
        "collapsed": true,
        "id": "oTH2X0mhhbz1",
        "outputId": "70cab19a-d784-4a94-d8c1-87dd16f1f0cc"
      },
      "outputs": [],
      "source": [
        "def main() -> None:\n",
        "    dir: str = input(\"Image directory to analyze: \")\n",
        "    imagePaths: list = readDirectory(dir)\n",
        "    \n",
        "    with Bar(\n",
        "        \"Creating saliency maps of PascalVOC images...\", max=len(imagePaths)\n",
        "    ) as bar:\n",
        "        imagePath: str\n",
        "        for imagePath in imagePaths:\n",
        "            computeSpectralSaliency(imagePath)\n",
        "            computeFineGrainSaliency(imagePath)\n",
        "            bar.next()\n",
        "\n",
        "\n",
        "if __name__ == \"__main__\":\n",
        "    main()\n"
      ]
    },
    {
      "cell_type": "markdown",
      "metadata": {},
      "source": [
        "## Citations\n",
        "\n",
        "1. X. Hou and L. Zhang, “Saliency Detection: A Spectral Residual Approach,” in 2007 IEEE Conference on Computer Vision and Pattern Recognition, Minneapolis, MN, USA, Jun. 2007, pp. 1–8. doi: 10.1109/CVPR.2007.383267.\n",
        "2. S. Montabone and A. Soto, “Human detection using a mobile platform and novel features derived from a visual saliency mechanism,” Image and Vision Computing, vol. 28, no. 3, pp. 391–402, Mar. 2010, doi: 10.1016/j.imavis.2009.06.006.\n"
      ]
    }
  ],
  "metadata": {
    "accelerator": "GPU",
    "colab": {
      "collapsed_sections": [],
      "provenance": []
    },
    "kernelspec": {
      "display_name": "Python 3.10.6 64-bit",
      "language": "python",
      "name": "python3"
    },
    "language_info": {
      "codemirror_mode": {
        "name": "ipython",
        "version": 3
      },
      "file_extension": ".py",
      "mimetype": "text/x-python",
      "name": "python",
      "nbconvert_exporter": "python",
      "pygments_lexer": "ipython3",
      "version": "3.10.6"
    },
    "vscode": {
      "interpreter": {
        "hash": "7d6993cb2f9ce9a59d5d7380609d9cb5192a9dedd2735a011418ad9e827eb538"
      }
    }
  },
  "nbformat": 4,
  "nbformat_minor": 0
}
